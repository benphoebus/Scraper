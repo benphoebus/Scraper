{
 "cells": [
  {
   "cell_type": "code",
   "execution_count": 1,
   "metadata": {},
   "outputs": [
    {
     "name": "stdout",
     "output_type": "stream",
     "text": [
      "<!DOCTYPE html>\n",
      "<html>\n",
      "<head>\n",
      "<meta charset=\"utf-8\"/>\n",
      "<link href=\"style.css\" rel=\"stylesheet\"/>\n",
      "<title>JavaScript DOM Tutorials</title>\n",
      "</head>\n",
      "<body>\n",
      "<div id=\"wrapper\">\n",
      "<header>\n",
      "<div id=\"page-banner\">\n",
      "<h1 class=\"title\">Bookorama</h1>\n",
      "<p>Books for Nerds</p>\n",
      "<a href=\"http://www.dymocks.com.au\">Dymocks</a>\n",
      "<form id=\"search-books\">\n",
      "<input placeholder=\"Search books...\" type=\"text\"/>\n",
      "</form>\n",
      "</div>\n",
      "</header>\n",
      "<div id=\"book-list\">\n",
      "<h2 class=\"title\">Books to Read</h2>\n",
      "<ul>\n",
      "<li>\n",
      "<span class=\"name\">Name of the Wind</span>\n",
      "<span class=\"delete\">delete</span>\n",
      "</li>\n",
      "<li>\n",
      "<span class=\"name\">The Wise Man's Fear</span>\n",
      "<span class=\"delete\">delete</span>\n",
      "</li>\n",
      "<li>\n",
      "<span class=\"name\">Kafka on the Shore</span>\n",
      "<span class=\"delete\">delete</span>\n",
      "</li>\n",
      "<li>\n",
      "<span class=\"name\">The Master and the Margarita</span>\n",
      "<span class=\"delete\">delete</span>\n",
      "</li>\n",
      "</ul>\n",
      "</div>\n",
      "<form id=\"add-book\">\n",
      "<input placeholder=\"Add a book...\" type=\"text\"/>\n",
      "<button>Add</button>\n",
      "</form>\n",
      "</div>\n",
      "<script src=\"dom.js\"></script>\n",
      "</body>\n",
      "</html>\n"
     ]
    }
   ],
   "source": [
    "from bs4 import BeautifulSoup\n",
    "import requests\n",
    "\n",
    "# pass HTML into BeautifulSoup\n",
    "\n",
    "with open('dom copy.html') as html_file:\n",
    "    soup = BeautifulSoup(html_file, 'lxml')\n",
    "\n",
    "print(soup)\n"
   ]
  },
  {
   "cell_type": "code",
   "execution_count": null,
   "metadata": {},
   "outputs": [],
   "source": []
  }
 ],
 "metadata": {
  "kernelspec": {
   "display_name": "Python 3",
   "language": "python",
   "name": "python3"
  },
  "language_info": {
   "codemirror_mode": {
    "name": "ipython",
    "version": 3
   },
   "file_extension": ".py",
   "mimetype": "text/x-python",
   "name": "python",
   "nbconvert_exporter": "python",
   "pygments_lexer": "ipython3",
   "version": "3.7.3"
  }
 },
 "nbformat": 4,
 "nbformat_minor": 2
}
